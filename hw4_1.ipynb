{
  "nbformat": 4,
  "nbformat_minor": 0,
  "metadata": {
    "colab": {
      "provenance": [],
      "gpuType": "T4",
      "authorship_tag": "ABX9TyM0GPC6e6dilWAfFrqQ/BTq",
      "include_colab_link": true
    },
    "kernelspec": {
      "name": "python3",
      "display_name": "Python 3"
    },
    "language_info": {
      "name": "python"
    },
    "accelerator": "GPU"
  },
  "cells": [
    {
      "cell_type": "markdown",
      "metadata": {
        "id": "view-in-github",
        "colab_type": "text"
      },
      "source": [
        "<a href=\"https://colab.research.google.com/github/aminsarzaeem/deep/blob/main/hw4_1.ipynb\" target=\"_parent\"><img src=\"https://colab.research.google.com/assets/colab-badge.svg\" alt=\"Open In Colab\"/></a>"
      ]
    },
    {
      "cell_type": "markdown",
      "source": [
        "# A\n",
        "\n",
        "in this section we will evaluate data the form of data"
      ],
      "metadata": {
        "id": "PxwlVozdshCk"
      }
    },
    {
      "cell_type": "code",
      "execution_count": 1,
      "metadata": {
        "id": "ADn46Nnu_tTM"
      },
      "outputs": [],
      "source": [
        "import pandas as pd\n",
        "import numpy as np\n",
        "from sklearn.model_selection import train_test_split\n",
        "from sklearn.preprocessing import StandardScaler\n",
        "from keras.preprocessing.sequence import pad_sequences\n",
        "\n"
      ]
    },
    {
      "cell_type": "code",
      "source": [
        "from google.colab import drive\n",
        "drive.mount('/content/drive')\n"
      ],
      "metadata": {
        "colab": {
          "base_uri": "https://localhost:8080/"
        },
        "id": "XIFNQLu34T0B",
        "outputId": "63694b55-d97a-4a28-9bae-f95fbe2b30e6"
      },
      "execution_count": 2,
      "outputs": [
        {
          "output_type": "stream",
          "name": "stdout",
          "text": [
            "Drive already mounted at /content/drive; to attempt to forcibly remount, call drive.mount(\"/content/drive\", force_remount=True).\n"
          ]
        }
      ]
    },
    {
      "cell_type": "code",
      "source": [
        "path = '/content/drive/MyDrive/Colab Notebooks/deep'\n",
        "data = pd.read_csv(path+'/BBBP.csv')\n",
        "data.head()"
      ],
      "metadata": {
        "colab": {
          "base_uri": "https://localhost:8080/",
          "height": 206
        },
        "id": "ITn0GTq64f-B",
        "outputId": "3099ca55-1ff5-4c57-ab00-0587e9b9f9de"
      },
      "execution_count": 3,
      "outputs": [
        {
          "output_type": "execute_result",
          "data": {
            "text/plain": [
              "   num                  name  p_np  \\\n",
              "0    1            Propanolol     1   \n",
              "1    2  Terbutylchlorambucil     1   \n",
              "2    3                 40730     1   \n",
              "3    4                    24     1   \n",
              "4    5           cloxacillin     1   \n",
              "\n",
              "                                              smiles  \n",
              "0                   [Cl].CC(C)NCC(O)COc1cccc2ccccc12  \n",
              "1           C(=O)(OC(C)(C)C)CCCc1ccc(cc1)N(CCCl)CCCl  \n",
              "2  c12c3c(N4CCN(C)CC4)c(F)cc1c(c(C(O)=O)cn2C(C)CO...  \n",
              "3                   C1CCN(CC1)Cc1cccc(c1)OCCCNC(=O)C  \n",
              "4  Cc1onc(c2ccccc2Cl)c1C(=O)N[C@H]3[C@H]4SC(C)(C)...  "
            ],
            "text/html": [
              "\n",
              "  <div id=\"df-2d4b2c56-262b-4c7c-8148-f4a92f73b2e2\" class=\"colab-df-container\">\n",
              "    <div>\n",
              "<style scoped>\n",
              "    .dataframe tbody tr th:only-of-type {\n",
              "        vertical-align: middle;\n",
              "    }\n",
              "\n",
              "    .dataframe tbody tr th {\n",
              "        vertical-align: top;\n",
              "    }\n",
              "\n",
              "    .dataframe thead th {\n",
              "        text-align: right;\n",
              "    }\n",
              "</style>\n",
              "<table border=\"1\" class=\"dataframe\">\n",
              "  <thead>\n",
              "    <tr style=\"text-align: right;\">\n",
              "      <th></th>\n",
              "      <th>num</th>\n",
              "      <th>name</th>\n",
              "      <th>p_np</th>\n",
              "      <th>smiles</th>\n",
              "    </tr>\n",
              "  </thead>\n",
              "  <tbody>\n",
              "    <tr>\n",
              "      <th>0</th>\n",
              "      <td>1</td>\n",
              "      <td>Propanolol</td>\n",
              "      <td>1</td>\n",
              "      <td>[Cl].CC(C)NCC(O)COc1cccc2ccccc12</td>\n",
              "    </tr>\n",
              "    <tr>\n",
              "      <th>1</th>\n",
              "      <td>2</td>\n",
              "      <td>Terbutylchlorambucil</td>\n",
              "      <td>1</td>\n",
              "      <td>C(=O)(OC(C)(C)C)CCCc1ccc(cc1)N(CCCl)CCCl</td>\n",
              "    </tr>\n",
              "    <tr>\n",
              "      <th>2</th>\n",
              "      <td>3</td>\n",
              "      <td>40730</td>\n",
              "      <td>1</td>\n",
              "      <td>c12c3c(N4CCN(C)CC4)c(F)cc1c(c(C(O)=O)cn2C(C)CO...</td>\n",
              "    </tr>\n",
              "    <tr>\n",
              "      <th>3</th>\n",
              "      <td>4</td>\n",
              "      <td>24</td>\n",
              "      <td>1</td>\n",
              "      <td>C1CCN(CC1)Cc1cccc(c1)OCCCNC(=O)C</td>\n",
              "    </tr>\n",
              "    <tr>\n",
              "      <th>4</th>\n",
              "      <td>5</td>\n",
              "      <td>cloxacillin</td>\n",
              "      <td>1</td>\n",
              "      <td>Cc1onc(c2ccccc2Cl)c1C(=O)N[C@H]3[C@H]4SC(C)(C)...</td>\n",
              "    </tr>\n",
              "  </tbody>\n",
              "</table>\n",
              "</div>\n",
              "    <div class=\"colab-df-buttons\">\n",
              "\n",
              "  <div class=\"colab-df-container\">\n",
              "    <button class=\"colab-df-convert\" onclick=\"convertToInteractive('df-2d4b2c56-262b-4c7c-8148-f4a92f73b2e2')\"\n",
              "            title=\"Convert this dataframe to an interactive table.\"\n",
              "            style=\"display:none;\">\n",
              "\n",
              "  <svg xmlns=\"http://www.w3.org/2000/svg\" height=\"24px\" viewBox=\"0 -960 960 960\">\n",
              "    <path d=\"M120-120v-720h720v720H120Zm60-500h600v-160H180v160Zm220 220h160v-160H400v160Zm0 220h160v-160H400v160ZM180-400h160v-160H180v160Zm440 0h160v-160H620v160ZM180-180h160v-160H180v160Zm440 0h160v-160H620v160Z\"/>\n",
              "  </svg>\n",
              "    </button>\n",
              "\n",
              "  <style>\n",
              "    .colab-df-container {\n",
              "      display:flex;\n",
              "      gap: 12px;\n",
              "    }\n",
              "\n",
              "    .colab-df-convert {\n",
              "      background-color: #E8F0FE;\n",
              "      border: none;\n",
              "      border-radius: 50%;\n",
              "      cursor: pointer;\n",
              "      display: none;\n",
              "      fill: #1967D2;\n",
              "      height: 32px;\n",
              "      padding: 0 0 0 0;\n",
              "      width: 32px;\n",
              "    }\n",
              "\n",
              "    .colab-df-convert:hover {\n",
              "      background-color: #E2EBFA;\n",
              "      box-shadow: 0px 1px 2px rgba(60, 64, 67, 0.3), 0px 1px 3px 1px rgba(60, 64, 67, 0.15);\n",
              "      fill: #174EA6;\n",
              "    }\n",
              "\n",
              "    .colab-df-buttons div {\n",
              "      margin-bottom: 4px;\n",
              "    }\n",
              "\n",
              "    [theme=dark] .colab-df-convert {\n",
              "      background-color: #3B4455;\n",
              "      fill: #D2E3FC;\n",
              "    }\n",
              "\n",
              "    [theme=dark] .colab-df-convert:hover {\n",
              "      background-color: #434B5C;\n",
              "      box-shadow: 0px 1px 3px 1px rgba(0, 0, 0, 0.15);\n",
              "      filter: drop-shadow(0px 1px 2px rgba(0, 0, 0, 0.3));\n",
              "      fill: #FFFFFF;\n",
              "    }\n",
              "  </style>\n",
              "\n",
              "    <script>\n",
              "      const buttonEl =\n",
              "        document.querySelector('#df-2d4b2c56-262b-4c7c-8148-f4a92f73b2e2 button.colab-df-convert');\n",
              "      buttonEl.style.display =\n",
              "        google.colab.kernel.accessAllowed ? 'block' : 'none';\n",
              "\n",
              "      async function convertToInteractive(key) {\n",
              "        const element = document.querySelector('#df-2d4b2c56-262b-4c7c-8148-f4a92f73b2e2');\n",
              "        const dataTable =\n",
              "          await google.colab.kernel.invokeFunction('convertToInteractive',\n",
              "                                                    [key], {});\n",
              "        if (!dataTable) return;\n",
              "\n",
              "        const docLinkHtml = 'Like what you see? Visit the ' +\n",
              "          '<a target=\"_blank\" href=https://colab.research.google.com/notebooks/data_table.ipynb>data table notebook</a>'\n",
              "          + ' to learn more about interactive tables.';\n",
              "        element.innerHTML = '';\n",
              "        dataTable['output_type'] = 'display_data';\n",
              "        await google.colab.output.renderOutput(dataTable, element);\n",
              "        const docLink = document.createElement('div');\n",
              "        docLink.innerHTML = docLinkHtml;\n",
              "        element.appendChild(docLink);\n",
              "      }\n",
              "    </script>\n",
              "  </div>\n",
              "\n",
              "\n",
              "<div id=\"df-2e28e310-cf49-47ae-92b9-0782e17d880a\">\n",
              "  <button class=\"colab-df-quickchart\" onclick=\"quickchart('df-2e28e310-cf49-47ae-92b9-0782e17d880a')\"\n",
              "            title=\"Suggest charts\"\n",
              "            style=\"display:none;\">\n",
              "\n",
              "<svg xmlns=\"http://www.w3.org/2000/svg\" height=\"24px\"viewBox=\"0 0 24 24\"\n",
              "     width=\"24px\">\n",
              "    <g>\n",
              "        <path d=\"M19 3H5c-1.1 0-2 .9-2 2v14c0 1.1.9 2 2 2h14c1.1 0 2-.9 2-2V5c0-1.1-.9-2-2-2zM9 17H7v-7h2v7zm4 0h-2V7h2v10zm4 0h-2v-4h2v4z\"/>\n",
              "    </g>\n",
              "</svg>\n",
              "  </button>\n",
              "\n",
              "<style>\n",
              "  .colab-df-quickchart {\n",
              "      --bg-color: #E8F0FE;\n",
              "      --fill-color: #1967D2;\n",
              "      --hover-bg-color: #E2EBFA;\n",
              "      --hover-fill-color: #174EA6;\n",
              "      --disabled-fill-color: #AAA;\n",
              "      --disabled-bg-color: #DDD;\n",
              "  }\n",
              "\n",
              "  [theme=dark] .colab-df-quickchart {\n",
              "      --bg-color: #3B4455;\n",
              "      --fill-color: #D2E3FC;\n",
              "      --hover-bg-color: #434B5C;\n",
              "      --hover-fill-color: #FFFFFF;\n",
              "      --disabled-bg-color: #3B4455;\n",
              "      --disabled-fill-color: #666;\n",
              "  }\n",
              "\n",
              "  .colab-df-quickchart {\n",
              "    background-color: var(--bg-color);\n",
              "    border: none;\n",
              "    border-radius: 50%;\n",
              "    cursor: pointer;\n",
              "    display: none;\n",
              "    fill: var(--fill-color);\n",
              "    height: 32px;\n",
              "    padding: 0;\n",
              "    width: 32px;\n",
              "  }\n",
              "\n",
              "  .colab-df-quickchart:hover {\n",
              "    background-color: var(--hover-bg-color);\n",
              "    box-shadow: 0 1px 2px rgba(60, 64, 67, 0.3), 0 1px 3px 1px rgba(60, 64, 67, 0.15);\n",
              "    fill: var(--button-hover-fill-color);\n",
              "  }\n",
              "\n",
              "  .colab-df-quickchart-complete:disabled,\n",
              "  .colab-df-quickchart-complete:disabled:hover {\n",
              "    background-color: var(--disabled-bg-color);\n",
              "    fill: var(--disabled-fill-color);\n",
              "    box-shadow: none;\n",
              "  }\n",
              "\n",
              "  .colab-df-spinner {\n",
              "    border: 2px solid var(--fill-color);\n",
              "    border-color: transparent;\n",
              "    border-bottom-color: var(--fill-color);\n",
              "    animation:\n",
              "      spin 1s steps(1) infinite;\n",
              "  }\n",
              "\n",
              "  @keyframes spin {\n",
              "    0% {\n",
              "      border-color: transparent;\n",
              "      border-bottom-color: var(--fill-color);\n",
              "      border-left-color: var(--fill-color);\n",
              "    }\n",
              "    20% {\n",
              "      border-color: transparent;\n",
              "      border-left-color: var(--fill-color);\n",
              "      border-top-color: var(--fill-color);\n",
              "    }\n",
              "    30% {\n",
              "      border-color: transparent;\n",
              "      border-left-color: var(--fill-color);\n",
              "      border-top-color: var(--fill-color);\n",
              "      border-right-color: var(--fill-color);\n",
              "    }\n",
              "    40% {\n",
              "      border-color: transparent;\n",
              "      border-right-color: var(--fill-color);\n",
              "      border-top-color: var(--fill-color);\n",
              "    }\n",
              "    60% {\n",
              "      border-color: transparent;\n",
              "      border-right-color: var(--fill-color);\n",
              "    }\n",
              "    80% {\n",
              "      border-color: transparent;\n",
              "      border-right-color: var(--fill-color);\n",
              "      border-bottom-color: var(--fill-color);\n",
              "    }\n",
              "    90% {\n",
              "      border-color: transparent;\n",
              "      border-bottom-color: var(--fill-color);\n",
              "    }\n",
              "  }\n",
              "</style>\n",
              "\n",
              "  <script>\n",
              "    async function quickchart(key) {\n",
              "      const quickchartButtonEl =\n",
              "        document.querySelector('#' + key + ' button');\n",
              "      quickchartButtonEl.disabled = true;  // To prevent multiple clicks.\n",
              "      quickchartButtonEl.classList.add('colab-df-spinner');\n",
              "      try {\n",
              "        const charts = await google.colab.kernel.invokeFunction(\n",
              "            'suggestCharts', [key], {});\n",
              "      } catch (error) {\n",
              "        console.error('Error during call to suggestCharts:', error);\n",
              "      }\n",
              "      quickchartButtonEl.classList.remove('colab-df-spinner');\n",
              "      quickchartButtonEl.classList.add('colab-df-quickchart-complete');\n",
              "    }\n",
              "    (() => {\n",
              "      let quickchartButtonEl =\n",
              "        document.querySelector('#df-2e28e310-cf49-47ae-92b9-0782e17d880a button');\n",
              "      quickchartButtonEl.style.display =\n",
              "        google.colab.kernel.accessAllowed ? 'block' : 'none';\n",
              "    })();\n",
              "  </script>\n",
              "</div>\n",
              "    </div>\n",
              "  </div>\n"
            ]
          },
          "metadata": {},
          "execution_count": 3
        }
      ]
    },
    {
      "cell_type": "code",
      "source": [
        "!pip install rdkit"
      ],
      "metadata": {
        "colab": {
          "base_uri": "https://localhost:8080/"
        },
        "id": "tyA11_HsF0fK",
        "outputId": "949b27c4-b446-43d2-ef7c-99d7dac78ae4"
      },
      "execution_count": 4,
      "outputs": [
        {
          "output_type": "stream",
          "name": "stdout",
          "text": [
            "Collecting rdkit\n",
            "  Downloading rdkit-2023.9.4-cp310-cp310-manylinux_2_17_x86_64.manylinux2014_x86_64.whl (34.4 MB)\n",
            "\u001b[2K     \u001b[90m━━━━━━━━━━━━━━━━━━━━━━━━━━━━━━━━━━━━━━━━\u001b[0m \u001b[32m34.4/34.4 MB\u001b[0m \u001b[31m38.0 MB/s\u001b[0m eta \u001b[36m0:00:00\u001b[0m\n",
            "\u001b[?25hRequirement already satisfied: numpy in /usr/local/lib/python3.10/dist-packages (from rdkit) (1.23.5)\n",
            "Requirement already satisfied: Pillow in /usr/local/lib/python3.10/dist-packages (from rdkit) (9.4.0)\n",
            "Installing collected packages: rdkit\n",
            "Successfully installed rdkit-2023.9.4\n"
          ]
        }
      ]
    },
    {
      "cell_type": "code",
      "source": [
        "from rdkit import Chem\n",
        "smiles=data['smiles']\n",
        "mol = Chem.MolFromSmiles(smiles[0]) # Convert SMILES string to RDKit molecule\n",
        "# Convert molecule to numerical sequence\n",
        "sequence = [atom.GetAtomicNum() for atom in mol.GetAtoms()]\n",
        "np.array(sequence)"
      ],
      "metadata": {
        "colab": {
          "base_uri": "https://localhost:8080/"
        },
        "id": "12BHUfw9Fwt5",
        "outputId": "bc9ef5b7-92ee-4273-96b5-d64222b122f2"
      },
      "execution_count": 12,
      "outputs": [
        {
          "output_type": "execute_result",
          "data": {
            "text/plain": [
              "array([17,  6,  6,  6,  7,  6,  6,  8,  6,  8,  6,  6,  6,  6,  6,  6,  6,\n",
              "        6,  6,  6])"
            ]
          },
          "metadata": {},
          "execution_count": 12
        }
      ]
    },
    {
      "cell_type": "markdown",
      "source": [
        "this function just consider the atoms in the mol and do not consider the bonds.\n",
        "so we write the tokenization code."
      ],
      "metadata": {
        "id": "TJW6OfhOtgDB"
      }
    },
    {
      "cell_type": "code",
      "source": [
        "data['smiles'][0]"
      ],
      "metadata": {
        "colab": {
          "base_uri": "https://localhost:8080/",
          "height": 35
        },
        "id": "AWfFwVO1GdeR",
        "outputId": "24b24fc2-ac3d-43d4-d624-09895ba6bc99"
      },
      "execution_count": 6,
      "outputs": [
        {
          "output_type": "execute_result",
          "data": {
            "text/plain": [
              "'[Cl].CC(C)NCC(O)COc1cccc2ccccc12'"
            ],
            "application/vnd.google.colaboratory.intrinsic+json": {
              "type": "string"
            }
          },
          "metadata": {},
          "execution_count": 6
        }
      ]
    },
    {
      "cell_type": "code",
      "source": [
        "smiles=data['smiles']\n",
        "string_smiles = '|'.join(smiles) # all data as string\n",
        "type(string_smiles)\n",
        "set(string_smiles)"
      ],
      "metadata": {
        "id": "JXRZKifIuVgp"
      },
      "execution_count": null,
      "outputs": []
    },
    {
      "cell_type": "markdown",
      "source": [
        "**separating different characters**"
      ],
      "metadata": {
        "id": "IXHJQmUp6OFY"
      }
    },
    {
      "cell_type": "code",
      "source": [
        "import re\n",
        "split = re.findall('Br|Na|Ca|Cl|@@|\\d+|\\D', string_smiles)\n",
        "tokens=set(split)\n",
        "print(set(split))"
      ],
      "metadata": {
        "colab": {
          "base_uri": "https://localhost:8080/"
        },
        "id": "oXIL-CBPygbe",
        "outputId": "24f7f03f-821c-4cb7-90a4-8e099788c73e"
      },
      "execution_count": 5,
      "outputs": [
        {
          "output_type": "stream",
          "name": "stdout",
          "text": [
            "{'P', '89', '127', '@', 'O', '25', '126', '%', 'c', 'F', '8', '34', '69', 'Br', 'Ca', 'Cl', '125', '15', '3', '(', '123', '.', 'B', '4', 'N', 'o', '23', '135', '56', '5', ')', '32', '2', '14', ']', '10', '21', '27', '234', '11', '@@', '+', '9', '13', 'C', '35', '#', 'S', 'n', 'Na', '37', '134', '/', '|', 's', '12', '=', 'I', '45', '26', '-', '67', '7', '[', '6', '36', '235', '24', '\\\\', '1', 'H'}\n"
          ]
        }
      ]
    },
    {
      "cell_type": "code",
      "source": [
        "np.where([np.array(['|']+split+['|']) == '|'])[1]"
      ],
      "metadata": {
        "colab": {
          "base_uri": "https://localhost:8080/"
        },
        "id": "PjesccdS0Y2F",
        "outputId": "1e2976ca-25f3-41f9-9d3b-14f568bbe3b7"
      },
      "execution_count": 74,
      "outputs": [
        {
          "output_type": "execute_result",
          "data": {
            "text/plain": [
              "(2051,)"
            ]
          },
          "metadata": {},
          "execution_count": 74
        }
      ]
    },
    {
      "cell_type": "markdown",
      "source": [
        "now we will plot the histogram of sequences length as we see the sequence length is around 50 characters. however th maximum length is much more about 400. this variation makes the training process difficult."
      ],
      "metadata": {
        "id": "mz2ArEvF6ZYY"
      }
    },
    {
      "cell_type": "code",
      "source": [
        "mol_len=np.diff(np.where([np.array(['|']+list(string_smiles)+['|']) == '|'])[1])-1"
      ],
      "metadata": {
        "id": "HBdx_4di14UU"
      },
      "execution_count": 6,
      "outputs": []
    },
    {
      "cell_type": "code",
      "source": [
        "import matplotlib.pyplot as plt\n",
        "plt.hist(mol_len,max(mol_len))\n",
        "plt.show()"
      ],
      "metadata": {
        "colab": {
          "base_uri": "https://localhost:8080/",
          "height": 430
        },
        "id": "XPSI-WAR2lkC",
        "outputId": "5601a766-8852-4c97-ca71-25e90f8b2430"
      },
      "execution_count": 60,
      "outputs": [
        {
          "output_type": "display_data",
          "data": {
            "text/plain": [
              "<Figure size 640x480 with 1 Axes>"
            ],
            "image/png": "[encoded data removed]"
          },
          "metadata": {}
        }
      ]
    },
    {
      "cell_type": "markdown",
      "source": [
        "now we plot the frequency of each character. we observe that many of characters apear a few times but in one hot encoder we consider all."
      ],
      "metadata": {
        "id": "b3CnLd8a64R5"
      }
    },
    {
      "cell_type": "code",
      "source": [
        "tokfreq={}\n",
        "for token in tokens:\n",
        "  token_pr = token\n",
        "  tokfreq[token_pr] = np.sum(np.array(split) == token)"
      ],
      "metadata": {
        "id": "hIMGXZ8F3OdH"
      },
      "execution_count": 7,
      "outputs": []
    },
    {
      "cell_type": "code",
      "source": [
        "idx = np.argsort(list(tokfreq.values()), )\n",
        "plt.figure(figsize = (20,10))\n",
        "plt.scatter(np.array(list(tokfreq.keys()))[idx], np.array(list(tokfreq.values()))[idx])\n",
        "plt.yscale('log')\n",
        "plt.grid()"
      ],
      "metadata": {
        "colab": {
          "base_uri": "https://localhost:8080/",
          "height": 648
        },
        "id": "ZKfrBZoI5uDs",
        "outputId": "c885cc93-75dc-4935-b69a-e34a3dc89be5"
      },
      "execution_count": 61,
      "outputs": [
        {
          "output_type": "display_data",
          "data": {
            "text/plain": [
              "<Figure size 2000x1000 with 1 Axes>"
            ],
            "image/png": "[encoded data removed]"
          },
          "metadata": {}
        }
      ]
    },
    {
      "cell_type": "code",
      "source": [
        "maxlen=max(mol_len)\n",
        "maxlen"
      ],
      "metadata": {
        "colab": {
          "base_uri": "https://localhost:8080/"
        },
        "id": "Xu64yc6XJLzQ",
        "outputId": "b5b8c519-2459-45cb-c3cb-552978f63d7b"
      },
      "execution_count": 7,
      "outputs": [
        {
          "output_type": "execute_result",
          "data": {
            "text/plain": [
              "400"
            ]
          },
          "metadata": {},
          "execution_count": 7
        }
      ]
    },
    {
      "cell_type": "code",
      "source": [
        "spliteddata=[]\n",
        "templist=[]\n",
        "for i in split+['|']:\n",
        "  if i=='|':\n",
        "    spliteddata.append(templist+(maxlen - len(templist))* ['pad'])\n",
        "    templist=[]\n",
        "  else:\n",
        "    templist.append(i)"
      ],
      "metadata": {
        "id": "6JlsesJaDkaU"
      },
      "execution_count": 8,
      "outputs": []
    },
    {
      "cell_type": "code",
      "source": [
        "len(spliteddata)"
      ],
      "metadata": {
        "colab": {
          "base_uri": "https://localhost:8080/"
        },
        "id": "M-5obBvDMnHz",
        "outputId": "3868e317-c54e-4eee-dbc6-d800acb403b4"
      },
      "execution_count": 82,
      "outputs": [
        {
          "output_type": "execute_result",
          "data": {
            "text/plain": [
              "2050"
            ]
          },
          "metadata": {},
          "execution_count": 82
        }
      ]
    },
    {
      "cell_type": "markdown",
      "source": [
        "# B\n",
        "\n",
        "one hot encoder: in this part we define the molculs in a sequence of length 400 and each character has a one hot encoder of length 71. also the padded sequence is zero vector."
      ],
      "metadata": {
        "id": "AxVxGdcY7UwG"
      }
    },
    {
      "cell_type": "code",
      "source": [
        "from sklearn.preprocessing import OneHotEncoder\n",
        "encoder = OneHotEncoder(drop= ['pad']*maxlen, sparse_output= False)\n",
        "encoder.fit(np.array([list(tokens)+['pad']]*maxlen).T)\n",
        "onehot = encoder.transform(np.array(spliteddata))"
      ],
      "metadata": {
        "id": "nPiiekKxKitu"
      },
      "execution_count": 9,
      "outputs": []
    },
    {
      "cell_type": "code",
      "source": [
        "#10 bin for last part\n",
        "spliteddata2={}\n",
        "label={}\n",
        "onehot2={}\n",
        "for i in range(10):\n",
        "  spliteddata2[i]=[]\n",
        "  label[i]=[]\n",
        "templist=[]\n",
        "j=0\n",
        "for i in split+['|']:\n",
        "  if i=='|':\n",
        "    spliteddata2[(len(templist)-1)//40].append(templist+(maxlen - len(templist))* ['pad'])\n",
        "    label[(len(templist)-1)//40].append(data['p_np'][j])\n",
        "    j+=1\n",
        "    templist=[]\n",
        "  else:\n",
        "    templist.append(i)\n",
        "for i in range(10):\n",
        "  #print(type(spliteddata2[i]))\n",
        "  maxlen2=(i+1)*40\n",
        "  encoder = OneHotEncoder(drop= ['pad']*maxlen, sparse_output= False)\n",
        "  encoder.fit(np.array([list(tokens)+['pad']]*maxlen).T)\n",
        "  if(len(spliteddata2[i])>0):\n",
        "    onehot2[i] = encoder.transform(np.array(spliteddata2[i]))\n",
        "  else:\n",
        "    print(i,spliteddata2[i])"
      ],
      "metadata": {
        "colab": {
          "base_uri": "https://localhost:8080/"
        },
        "id": "eeMpHnKhwsSO",
        "outputId": "d2dd50f6-18f6-4549-e4cd-f316d2f3928b"
      },
      "execution_count": 10,
      "outputs": [
        {
          "output_type": "stream",
          "name": "stdout",
          "text": [
            "7 []\n"
          ]
        }
      ]
    },
    {
      "cell_type": "markdown",
      "source": [
        "**fully connected**\n",
        "\n",
        "now we consider the 71*400 vectors as input of a neural network"
      ],
      "metadata": {
        "id": "_kO3dICW731F"
      }
    },
    {
      "cell_type": "code",
      "source": [
        "import torch\n",
        "from torch import nn\n",
        "import torch.nn.functional as F\n",
        "from torch.utils.data import Dataset, DataLoader, sampler"
      ],
      "metadata": {
        "id": "gc93qXnRNzF3"
      },
      "execution_count": 11,
      "outputs": []
    },
    {
      "cell_type": "code",
      "source": [
        "class bbbp_dataset(Dataset):\n",
        "    def __init__(self, data, labels, shuffle = True):\n",
        "        self.num_data = len(labels)\n",
        "        if(shuffle):\n",
        "          idxs = np.random.choice(self.num_data, self.num_data, replace = False)\n",
        "          self.data = data[idxs]\n",
        "          self.targets = list(np.array(labels)[idxs])\n",
        "        else:\n",
        "          self.data = data.clone()\n",
        "          self.targets = labels.copy()\n",
        "\n",
        "    def __getitem__(self, idx):\n",
        "        return self.data[idx], self.targets[idx]\n",
        "\n",
        "    def __len__(self):\n",
        "        return self.num_data"
      ],
      "metadata": {
        "id": "YhAoNJklK93E"
      },
      "execution_count": 14,
      "outputs": []
    },
    {
      "cell_type": "code",
      "source": [
        "from sklearn.model_selection import train_test_split\n",
        "X_train, X_test, y_train, y_test = train_test_split(onehot, data['p_np'], test_size=0.2, random_state=42)\n",
        "traindataset = bbbp_dataset(torch.from_numpy(X_train), list(y_train))\n",
        "trainloader = DataLoader(traindataset, batch_size=32)\n",
        "testdataset = bbbp_dataset(torch.from_numpy(X_test), list(y_test))\n",
        "testloader = DataLoader(testdataset, batch_size=32)\n",
        ""
      ],
      "metadata": {
        "id": "KCj9qhgZN6P1"
      },
      "execution_count": 29,
      "outputs": []
    },
    {
      "cell_type": "code",
      "source": [
        "class FC_model(nn.Module):\n",
        "    def __init__(self, input_size, hidden_size, num_classes):\n",
        "        super().__init__()\n",
        "        self.fc1 = nn.Linear(input_size, hidden_size)\n",
        "        self.fc2 = nn.Linear(hidden_size, num_classes)\n",
        "\n",
        "    def forward(self, x):\n",
        "        o1=self.fc1(x)\n",
        "        o2=F.relu(o1)\n",
        "        out = self.fc2(o2)\n",
        "        return out\n",
        "\n",
        "def train_model(model, train_loader, test_loader, num_epochs, device='cuda',dtype=torch.float32,lr = 1e-3):\n",
        "  model = model.to(device)\n",
        "  # Define loss function and optimizer\n",
        "  criterion = nn.CrossEntropyLoss()\n",
        "  optimizer = torch.optim.Adam(model.parameters(), lr=lr)\n",
        "\n",
        "  # Training loop\n",
        "  total_step = len(train_loader)\n",
        "  for epoch in range(num_epochs):\n",
        "    model.train()\n",
        "    for i, (X, y) in enumerate(train_loader):\n",
        "        # Move images and labels to the device\n",
        "        X = X.to(device,dtype)\n",
        "        y = y.to(device)\n",
        "\n",
        "        # Forward pass\n",
        "        outputs = model(X)\n",
        "        loss = criterion(outputs, y)\n",
        "\n",
        "        # Backward and optimize\n",
        "        optimizer.zero_grad()\n",
        "        loss.backward()\n",
        "        optimizer.step()\n",
        "\n",
        "    # Print training loss every epochs\n",
        "    print(f\"Epoch [{epoch+1}/{num_epochs}], Step [{i+1}/{total_step}], Loss: {loss.item():.4f}\")\n",
        "    model.eval()\n",
        "    l=0\n",
        "    correct=0\n",
        "    total=0\n",
        "    with torch.no_grad():\n",
        "      for X, y in test_loader:\n",
        "        X = X.to(device,dtype)\n",
        "        y = y.to(device)\n",
        "\n",
        "        # Forward pass\n",
        "        outputs = model(X)\n",
        "        l+=criterion(outputs, y).item()\n",
        "        _, predicted = torch.max(outputs.data, 1)\n",
        "        total += y.size(0)\n",
        "        correct += (predicted == y).sum().item()\n",
        "      accuracy = 100 * correct / total\n",
        "      print(f\"Test Accuracy: {accuracy:.2f} %\")\n",
        "  return accuracy, model"
      ],
      "metadata": {
        "id": "spfgvUhKS-mN"
      },
      "execution_count": 22,
      "outputs": []
    },
    {
      "cell_type": "code",
      "source": [
        "if torch.cuda.is_available():\n",
        "    device = 'cuda'\n",
        "else:\n",
        "    device = 'cpu'\n",
        "print('device = ', device)\n",
        "dtype = torch.float\n",
        "model = FC_model(28400, 400, 2)\n",
        "train_model(model, trainloader, testloader, num_epochs = 10, device=device, lr = 1e-3)"
      ],
      "metadata": {
        "colab": {
          "base_uri": "https://localhost:8080/"
        },
        "id": "nTyaHH5DSw8g",
        "outputId": "d1c07a27-4f76-4f82-d4a0-3ac19412a5ad"
      },
      "execution_count": 37,
      "outputs": [
        {
          "output_type": "stream",
          "name": "stdout",
          "text": [
            "device =  cpu\n",
            "Epoch [1/10], Step [52/52], Loss: 0.2091\n",
            "Test Accuracy: 85.85 %\n",
            "Epoch [2/10], Step [52/52], Loss: 0.0778\n",
            "Test Accuracy: 85.85 %\n",
            "Epoch [3/10], Step [52/52], Loss: 0.0404\n",
            "Test Accuracy: 86.10 %\n",
            "Epoch [4/10], Step [52/52], Loss: 0.0210\n",
            "Test Accuracy: 86.34 %\n",
            "Epoch [5/10], Step [52/52], Loss: 0.0113\n",
            "Test Accuracy: 87.32 %\n",
            "Epoch [6/10], Step [52/52], Loss: 0.0056\n",
            "Test Accuracy: 86.59 %\n",
            "Epoch [7/10], Step [52/52], Loss: 0.0029\n",
            "Test Accuracy: 85.85 %\n",
            "Epoch [8/10], Step [52/52], Loss: 0.0019\n",
            "Test Accuracy: 86.10 %\n",
            "Epoch [9/10], Step [52/52], Loss: 0.0012\n",
            "Test Accuracy: 86.10 %\n",
            "Epoch [10/10], Step [52/52], Loss: 0.0009\n",
            "Test Accuracy: 85.61 %\n"
          ]
        },
        {
          "output_type": "execute_result",
          "data": {
            "text/plain": [
              "(85.60975609756098,\n",
              " FC_model(\n",
              "   (fc1): Linear(in_features=28400, out_features=400, bias=True)\n",
              "   (fc2): Linear(in_features=400, out_features=2, bias=True)\n",
              " ))"
            ]
          },
          "metadata": {},
          "execution_count": 37
        }
      ]
    },
    {
      "cell_type": "markdown",
      "source": [
        "we conclude that the accuracy of this model is about 85  percent which is acceptable for this simple model."
      ],
      "metadata": {
        "id": "dmklmJzb8MXE"
      }
    },
    {
      "cell_type": "code",
      "source": [
        "#different bin accuracy\n",
        "model.eval()\n",
        "for i in range(10):\n",
        "  if(len(label[i])>0):\n",
        "\n",
        "    l=0\n",
        "    correct=0\n",
        "    total=0\n",
        "    with torch.no_grad():\n",
        "      for (X, y) in zip(onehot2[i],label[i]):\n",
        "        X = torch.from_numpy(X).to(device,dtype)\n",
        "\n",
        "  # Forward pass\n",
        "        outputs = model(X)\n",
        "    #l+=nn.CrossEntropyLoss(outputs, y).item()\n",
        "        _, predicted = torch.max(outputs.data,0)\n",
        "        total += 1\n",
        "        correct += (predicted == y).sum().item()\n",
        "\n",
        "      accuracy = 100 * correct / total\n",
        "      print(f\"Test Accuracy bin {i}: {accuracy:.2f} %\")"
      ],
      "metadata": {
        "colab": {
          "base_uri": "https://localhost:8080/"
        },
        "id": "m-BnyVB6hMDX",
        "outputId": "0190011e-8f27-4d2d-9b71-31899178b456"
      },
      "execution_count": 57,
      "outputs": [
        {
          "output_type": "stream",
          "name": "stdout",
          "text": [
            "Test Accuracy bin 0: 96.76 %\n",
            "Test Accuracy bin 1: 97.56 %\n",
            "Test Accuracy bin 2: 96.15 %\n",
            "Test Accuracy bin 3: 100.00 %\n",
            "Test Accuracy bin 4: 94.44 %\n",
            "Test Accuracy bin 5: 100.00 %\n",
            "Test Accuracy bin 6: 100.00 %\n",
            "Test Accuracy bin 8: 100.00 %\n",
            "Test Accuracy bin 9: 100.00 %\n"
          ]
        }
      ]
    },
    {
      "cell_type": "markdown",
      "source": [
        "# C\n",
        "\n",
        "in this section we define an lstm model concatinated with a fully connected network for label prediction."
      ],
      "metadata": {
        "id": "Pk2Lfgry8awz"
      }
    },
    {
      "cell_type": "code",
      "source": [
        "class LSTM_model(nn.Module):\n",
        "    def __init__(self, input_size, hidden_size, num_classes, device='cuda',dtype=torch.float32, bidirectional = False):\n",
        "        super().__init__()\n",
        "        self.hidden_size = hidden_size\n",
        "        self.Bidirectional = bidirectional\n",
        "        self.LSTM = nn.LSTM(input_size, hidden_size, batch_first= True, bidirectional= bidirectional)\n",
        "        if bidirectional:\n",
        "          self.fc = nn.Linear(hidden_size*2, num_classes)\n",
        "        else:\n",
        "          self.fc = nn.Linear(hidden_size, num_classes)\n",
        "\n",
        "    def forward(self, x, device = 'cuda'):\n",
        "        if(self.Bidirectional):\n",
        "          h_0 = torch.zeros((2, len(x), self.hidden_size), device = device)\n",
        "          c_0 = torch.zeros((2, len(x), self.hidden_size), device = device)\n",
        "        else:\n",
        "          h_0 = torch.zeros((1, len(x), self.hidden_size), device = device)\n",
        "          c_0 = torch.zeros((1, len(x), self.hidden_size), device = device)\n",
        "        out, (hn, cn) = self.LSTM(x, (h_0, c_0))\n",
        "        if(self.Bidirectional):\n",
        "          output = self.fc(torch.cat((hn[0], hn[1]), dim=1))\n",
        "        else:\n",
        "          output = self.fc(hn[0])\n",
        "        return output\n",
        "\n",
        "def train_lstm(model, train_loader, test_loader,num_epochs,device='cuda', dtype=torch.float32, lr = 1e-3):\n",
        "  model = model.to(device)\n",
        "  criterion = nn.CrossEntropyLoss()\n",
        "  optimizer = torch.optim.Adam(model.parameters(), lr=lr)\n",
        "\n",
        "  total_step = len(train_loader)\n",
        "  for epoch in range(num_epochs):\n",
        "    model.train()\n",
        "    for i, (X, y) in enumerate(train_loader):\n",
        "        # Move images and labels to the device\n",
        "        X = X.to(device,dtype)\n",
        "        y = y.to(device)\n",
        "\n",
        "        # Forward pass\n",
        "        outputs = model(X)\n",
        "        loss = criterion(outputs, y)\n",
        "\n",
        "        # Backward and optimize\n",
        "        optimizer.zero_grad()\n",
        "        loss.backward()\n",
        "        optimizer.step()\n",
        "    # Print training loss every epochs\n",
        "    print(f\"Epoch [{epoch+1}/{num_epochs}], Step [{i+1}/{total_step}], Loss: {loss.item():.4f}\")\n",
        "    model.eval()\n",
        "    l=0\n",
        "    correct=0\n",
        "    total=0\n",
        "    with torch.no_grad():\n",
        "      for X, y in test_loader:\n",
        "        X = X.to(device,dtype)\n",
        "        y = y.to(device)\n",
        "\n",
        "        # Forward pass\n",
        "        outputs = model(X)\n",
        "        l+=criterion(outputs, y).item()\n",
        "        _, predicted = torch.max(outputs.data, 1)\n",
        "        total += y.size(0)\n",
        "        correct += (predicted == y).sum().item()\n",
        "      accuracy = 100 * correct / total\n",
        "      print(f\"Test Accuracy: {accuracy:.2f} %\")\n",
        "  return accuracy, model"
      ],
      "metadata": {
        "id": "YZV5rpQnbKTb"
      },
      "execution_count": 12,
      "outputs": []
    },
    {
      "cell_type": "code",
      "source": [
        "X_train, X_test, y_train, y_test = train_test_split(np.flip(onehot.reshape((len(onehot),maxlen,-1)),1), data['p_np'], test_size=0.2, random_state=42)\n",
        "#X_train, X_test, y_train, y_test = train_test_split(onehot.reshape((len(onehot),maxlen,-1)), data['p_np'], test_size=0.2, random_state=42)\n",
        "traindataset = bbbp_dataset(torch.from_numpy(X_train), list(y_train))\n",
        "trainloader = DataLoader(traindataset, batch_size=32)\n",
        "testdataset = bbbp_dataset(torch.from_numpy(X_test), list(y_test))\n",
        "testloader = DataLoader(testdataset, batch_size=32)"
      ],
      "metadata": {
        "id": "sTwOUIl45BwY"
      },
      "execution_count": 15,
      "outputs": []
    },
    {
      "cell_type": "code",
      "source": [
        "if torch.cuda.is_available():\n",
        "    device = 'cuda'\n",
        "else:\n",
        "    device = 'cpu'\n",
        "print('device = ', device)\n",
        "lstm_model = LSTM_model(71, 400, 2)\n",
        "train_lstm(lstm_model, trainloader, testloader, num_epochs = 10,device=device,lr=1e-3)"
      ],
      "metadata": {
        "colab": {
          "base_uri": "https://localhost:8080/"
        },
        "id": "elIeP9XCa4OY",
        "outputId": "9486aeb0-92a6-4026-e6d5-98517878ae39"
      },
      "execution_count": 16,
      "outputs": [
        {
          "output_type": "stream",
          "name": "stdout",
          "text": [
            "device =  cuda\n",
            "Epoch [1/10], Step [52/52], Loss: 0.6543\n",
            "Test Accuracy: 76.83 %\n",
            "Epoch [2/10], Step [52/52], Loss: 0.5106\n",
            "Test Accuracy: 78.78 %\n",
            "Epoch [3/10], Step [52/52], Loss: 0.4011\n",
            "Test Accuracy: 80.98 %\n",
            "Epoch [4/10], Step [52/52], Loss: 0.3726\n",
            "Test Accuracy: 82.20 %\n",
            "Epoch [5/10], Step [52/52], Loss: 0.2817\n",
            "Test Accuracy: 81.95 %\n",
            "Epoch [6/10], Step [52/52], Loss: 0.3585\n",
            "Test Accuracy: 79.76 %\n",
            "Epoch [7/10], Step [52/52], Loss: 0.2542\n",
            "Test Accuracy: 82.44 %\n",
            "Epoch [8/10], Step [52/52], Loss: 0.2887\n",
            "Test Accuracy: 82.68 %\n",
            "Epoch [9/10], Step [52/52], Loss: 0.2619\n",
            "Test Accuracy: 80.98 %\n",
            "Epoch [10/10], Step [52/52], Loss: 0.2850\n",
            "Test Accuracy: 84.63 %\n"
          ]
        },
        {
          "output_type": "execute_result",
          "data": {
            "text/plain": [
              "(84.63414634146342,\n",
              " LSTM_model(\n",
              "   (LSTM): LSTM(71, 400, batch_first=True)\n",
              "   (fc): Linear(in_features=400, out_features=2, bias=True)\n",
              " ))"
            ]
          },
          "metadata": {},
          "execution_count": 16
        }
      ]
    },
    {
      "cell_type": "markdown",
      "source": [
        "we conclude the with 10 epoch training the accuracy is 84 which is about fc network accuracy. the key point is that we should set the parameter to avoid saddle points.this is abit hard."
      ],
      "metadata": {
        "id": "kKuFrq4g8v-M"
      }
    },
    {
      "cell_type": "code",
      "source": [
        "#different bin accuracy\n",
        "lstm_model.eval()\n",
        "for i in range(10):\n",
        "  correct=0\n",
        "  if(len(label[i])>0):\n",
        "    xtemp=np.flip(onehot2[i].reshape((len(onehot2[i]),maxlen,-1)),1).copy()\n",
        "    outputs=lstm_model(torch.from_numpy(xtemp).to(device,torch.float32))\n",
        "    _, predicted = torch.max(outputs.data,1)\n",
        "    correct = (predicted == torch.tensor(label[i]).to(device)).sum().item()\n",
        "\n",
        "    accuracy = 100 * correct / len(label[i])\n",
        "    print(f\"Accuracy bin {i}: {accuracy:.2f} %\")"
      ],
      "metadata": {
        "colab": {
          "base_uri": "https://localhost:8080/"
        },
        "id": "pnnbBsK1ybua",
        "outputId": "32ed58ca-9833-4b87-febc-58a675235d57"
      },
      "execution_count": 17,
      "outputs": [
        {
          "output_type": "stream",
          "name": "stdout",
          "text": [
            "Accuracy bin 0: 85.23 %\n",
            "Accuracy bin 1: 85.08 %\n",
            "Accuracy bin 2: 87.91 %\n",
            "Accuracy bin 3: 70.37 %\n",
            "Accuracy bin 4: 88.89 %\n",
            "Accuracy bin 5: 0.00 %\n",
            "Accuracy bin 6: 50.00 %\n",
            "Accuracy bin 8: 0.00 %\n",
            "Accuracy bin 9: 100.00 %\n"
          ]
        }
      ]
    },
    {
      "cell_type": "markdown",
      "source": [
        "# D\n",
        "\n",
        "now we add bidirectional lstm to the last code and observe the results."
      ],
      "metadata": {
        "id": "Kh2kYw2L9PI-"
      }
    },
    {
      "cell_type": "code",
      "source": [
        "lstm_model = LSTM_model(71, 400, 2, bidirectional=True)\n",
        "train_lstm(lstm_model, trainloader, testloader, num_epochs = 10,device=device,lr=1e-3)"
      ],
      "metadata": {
        "colab": {
          "base_uri": "https://localhost:8080/"
        },
        "id": "hHE_tbZ5cB9K",
        "outputId": "aa352b9d-5e64-493e-d39f-39e47ea38593"
      },
      "execution_count": 18,
      "outputs": [
        {
          "output_type": "stream",
          "name": "stdout",
          "text": [
            "Epoch [1/10], Step [52/52], Loss: 0.6299\n",
            "Test Accuracy: 76.83 %\n",
            "Epoch [2/10], Step [52/52], Loss: 0.5353\n",
            "Test Accuracy: 78.05 %\n",
            "Epoch [3/10], Step [52/52], Loss: 0.4361\n",
            "Test Accuracy: 79.02 %\n",
            "Epoch [4/10], Step [52/52], Loss: 0.3385\n",
            "Test Accuracy: 81.46 %\n",
            "Epoch [5/10], Step [52/52], Loss: 0.3295\n",
            "Test Accuracy: 82.68 %\n",
            "Epoch [6/10], Step [52/52], Loss: 0.2573\n",
            "Test Accuracy: 85.61 %\n",
            "Epoch [7/10], Step [52/52], Loss: 0.2694\n",
            "Test Accuracy: 84.88 %\n",
            "Epoch [8/10], Step [52/52], Loss: 0.2131\n",
            "Test Accuracy: 85.37 %\n",
            "Epoch [9/10], Step [52/52], Loss: 0.2240\n",
            "Test Accuracy: 87.07 %\n",
            "Epoch [10/10], Step [52/52], Loss: 0.3321\n",
            "Test Accuracy: 83.17 %\n"
          ]
        },
        {
          "output_type": "execute_result",
          "data": {
            "text/plain": [
              "(83.17073170731707,\n",
              " LSTM_model(\n",
              "   (LSTM): LSTM(71, 400, batch_first=True, bidirectional=True)\n",
              "   (fc): Linear(in_features=800, out_features=2, bias=True)\n",
              " ))"
            ]
          },
          "metadata": {},
          "execution_count": 18
        }
      ]
    },
    {
      "cell_type": "markdown",
      "source": [
        "we conclude that the bidiractional lstm for this problem has a bit more accuracy than simple lstm. this may be as result of considering future of sequence in current states. however this increase is not very sensible."
      ],
      "metadata": {
        "id": "IFypHh529dCQ"
      }
    },
    {
      "cell_type": "code",
      "source": [
        "#different bin accuracy\n",
        "lstm_model.eval()\n",
        "for i in range(10):\n",
        "  correct=0\n",
        "  if(len(label[i])>0):\n",
        "    xtemp=np.flip(onehot2[i].reshape((len(onehot2[i]),maxlen,-1)),1).copy()\n",
        "    outputs=lstm_model(torch.from_numpy(xtemp).to(device,torch.float32))\n",
        "    _, predicted = torch.max(outputs.data,1)\n",
        "    correct = (predicted == torch.tensor(label[i]).to(device)).sum().item()\n",
        "\n",
        "    accuracy = 100 * correct / len(label[i])\n",
        "    print(f\"Accuracy bin {i}: {accuracy:.2f} %\")"
      ],
      "metadata": {
        "colab": {
          "base_uri": "https://localhost:8080/"
        },
        "id": "lLBDeOaA1wZB",
        "outputId": "4ab7078f-8f8a-451d-c3c1-a39d597a1715"
      },
      "execution_count": 19,
      "outputs": [
        {
          "output_type": "stream",
          "name": "stdout",
          "text": [
            "Accuracy bin 0: 83.91 %\n",
            "Accuracy bin 1: 83.65 %\n",
            "Accuracy bin 2: 86.26 %\n",
            "Accuracy bin 3: 74.07 %\n",
            "Accuracy bin 4: 88.89 %\n",
            "Accuracy bin 5: 0.00 %\n",
            "Accuracy bin 6: 50.00 %\n",
            "Accuracy bin 8: 0.00 %\n",
            "Accuracy bin 9: 100.00 %\n"
          ]
        }
      ]
    },
    {
      "cell_type": "markdown",
      "source": [
        "# E Kfold\n"
      ],
      "metadata": {
        "id": "Q-lL5BYf-Os7"
      }
    },
    {
      "cell_type": "code",
      "source": [
        "if torch.cuda.is_available():\n",
        "    device = 'cuda'\n",
        "else:\n",
        "    device = 'cpu'\n",
        "print('device = ', device)\n",
        "from sklearn.model_selection import KFold\n",
        "# Define the K-fold Cross Validator\n",
        "kfold = KFold(n_splits=5, shuffle=True)\n",
        "\n",
        "xtemp=np.flip(onehot.reshape((len(onehot),maxlen,-1)),1).copy()\n",
        "dataset=bbbp_dataset(torch.from_numpy(xtemp), list(data['p_np']))\n",
        "# K-fold Cross Validation model evaluation\n",
        "results={}\n",
        "for fold, (train_ids, test_ids) in enumerate(kfold.split(dataset)):\n",
        "\n",
        "    # Sample elements randomly from a given list of ids, no replacement.\n",
        "    train_subsampler = torch.utils.data.SubsetRandomSampler(train_ids)\n",
        "    test_subsampler = torch.utils.data.SubsetRandomSampler(test_ids)\n",
        "\n",
        "    # Define data loaders for training and testing data in this fold\n",
        "    trainloader = torch.utils.data.DataLoader(dataset,\n",
        "                      batch_size=10, sampler=train_subsampler)\n",
        "    testloader = torch.utils.data.DataLoader(dataset,\n",
        "                      batch_size=10, sampler=test_subsampler)\n",
        "\n",
        "    # Init the neural network\n",
        "    model = LSTM_model(71, 400, 2, bidirectional=False)\n",
        "    model = model.to(device)\n",
        "    criterion = nn.CrossEntropyLoss()\n",
        "    optimizer = torch.optim.Adam(model.parameters(), lr=1e-3)\n",
        "\n",
        "    total_step = len(trainloader)\n",
        "    for epoch in range(10):\n",
        "      model.train()\n",
        "      totalloss=0\n",
        "      for i, (X, y) in enumerate(trainloader):\n",
        "        # Move images and labels to the device\n",
        "        X = X.to(device,torch.float32)\n",
        "        y = y.to(device)\n",
        "\n",
        "        # Forward pass\n",
        "        outputs = model(X)\n",
        "        loss = criterion(outputs, y)\n",
        "\n",
        "        # Backward and optimize\n",
        "        optimizer.zero_grad()\n",
        "        loss.backward()\n",
        "        optimizer.step()\n",
        "        totalloss+=loss.item()\n",
        "      # Print training loss every epochs\n",
        "        if i % 500 == 499:\n",
        "            print('Loss after mini-batch %5d: %.3f' %\n",
        "                  (i + 1, current_loss / 500))\n",
        "            current_loss = 0.0\n",
        "      #print(f\"Epoch [{epoch+1}/{num_epochs}], Step [{i+1}/{total_step}], Loss: {totalloss:.4f}\")\n",
        "\n",
        "    # Process is complete.\n",
        "    #print('Training process has finished. Saving trained model.')\n",
        "\n",
        "    # Print about testing\n",
        "    print('Starting testing')\n",
        "\n",
        "    # Saving the model\n",
        "    #save_path = f'./model-fold-{fold}.pth'\n",
        "    #torch.save(network.state_dict(), save_path)\n",
        "    model.eval()\n",
        "    l=0\n",
        "    correct=0\n",
        "    total=0\n",
        "    with torch.no_grad():\n",
        "      for X, y in testloader:\n",
        "        X = X.to(device,torch.float32)\n",
        "        y = y.to(device)\n",
        "\n",
        "        # Forward pass\n",
        "        outputs = model(X)\n",
        "        l+=criterion(outputs, y).item()\n",
        "        _, predicted = torch.max(outputs.data, 1)\n",
        "        total += y.size(0)\n",
        "        correct += (predicted == y).sum().item()\n",
        "      accuracy = 100 * correct / total\n",
        "      print('Accuracy for fold %d: %d %%' % (fold, 100.0 * correct / total))\n",
        "      results[fold] = 100.0 * (correct / total)\n",
        "\n",
        "# Print fold results\n",
        "sum = 0.0\n",
        "for key, value in results.items():\n",
        "    print(f'Fold {key}: {value} %')\n",
        "    sum += value\n",
        "print(f'Average: {sum/len(results.items())} %')"
      ],
      "metadata": {
        "colab": {
          "base_uri": "https://localhost:8080/"
        },
        "id": "7OoUKbdgFy--",
        "outputId": "69970a31-c4bf-41ab-88c3-e74e6188331f"
      },
      "execution_count": 20,
      "outputs": [
        {
          "output_type": "stream",
          "name": "stdout",
          "text": [
            "device =  cuda\n",
            "Starting testing\n",
            "Accuracy for fold 0: 88 %\n",
            "Starting testing\n",
            "Accuracy for fold 1: 81 %\n",
            "Starting testing\n",
            "Accuracy for fold 2: 73 %\n",
            "Starting testing\n",
            "Accuracy for fold 3: 84 %\n",
            "Starting testing\n",
            "Accuracy for fold 4: 83 %\n",
            "Fold 0: 88.29268292682927 %\n",
            "Fold 1: 81.70731707317073 %\n",
            "Fold 2: 73.90243902439025 %\n",
            "Fold 3: 84.14634146341463 %\n",
            "Fold 4: 83.90243902439025 %\n",
            "Average: 82.39024390243904 %\n"
          ]
        }
      ]
    },
    {
      "cell_type": "code",
      "source": [
        "if torch.cuda.is_available():\n",
        "    device = 'cuda'\n",
        "else:\n",
        "    device = 'cpu'\n",
        "print('device = ', device)\n",
        "from sklearn.model_selection import KFold\n",
        "# Define the K-fold Cross Validator\n",
        "kfold = KFold(n_splits=5, shuffle=True)\n",
        "\n",
        "xtemp=onehot.copy()\n",
        "dataset=bbbp_dataset(torch.from_numpy(xtemp), list(data['p_np']))\n",
        "# K-fold Cross Validation model evaluation\n",
        "results={}\n",
        "for fold, (train_ids, test_ids) in enumerate(kfold.split(dataset)):\n",
        "\n",
        "    # Sample elements randomly from a given list of ids, no replacement.\n",
        "    train_subsampler = torch.utils.data.SubsetRandomSampler(train_ids)\n",
        "    test_subsampler = torch.utils.data.SubsetRandomSampler(test_ids)\n",
        "\n",
        "    # Define data loaders for training and testing data in this fold\n",
        "    trainloader = torch.utils.data.DataLoader(dataset,\n",
        "                      batch_size=10, sampler=train_subsampler)\n",
        "    testloader = torch.utils.data.DataLoader(dataset,\n",
        "                      batch_size=10, sampler=test_subsampler)\n",
        "\n",
        "    # Init the neural network\n",
        "    model = FC_model(28400, 400, 2)\n",
        "    model = model.to(device)\n",
        "    criterion = nn.CrossEntropyLoss()\n",
        "    optimizer = torch.optim.Adam(model.parameters(), lr=1e-3)\n",
        "\n",
        "    total_step = len(trainloader)\n",
        "    for epoch in range(10):\n",
        "      model.train()\n",
        "      totalloss=0\n",
        "      for i, (X, y) in enumerate(trainloader):\n",
        "        # Move images and labels to the device\n",
        "        X = X.to(device,torch.float32)\n",
        "        y = y.to(device)\n",
        "\n",
        "        # Forward pass\n",
        "        outputs = model(X)\n",
        "        loss = criterion(outputs, y)\n",
        "\n",
        "        # Backward and optimize\n",
        "        optimizer.zero_grad()\n",
        "        loss.backward()\n",
        "        optimizer.step()\n",
        "        totalloss+=loss.item()\n",
        "      # Print training loss every epochs\n",
        "        if i % 500 == 499:\n",
        "            print('Loss after mini-batch %5d: %.3f' %\n",
        "                  (i + 1, current_loss / 500))\n",
        "            current_loss = 0.0\n",
        "      #print(f\"Epoch [{epoch+1}/{num_epochs}], Step [{i+1}/{total_step}], Loss: {totalloss:.4f}\")\n",
        "\n",
        "    # Process is complete.\n",
        "    #print('Training process has finished. Saving trained model.')\n",
        "\n",
        "    # Print about testing\n",
        "    print('Starting testing')\n",
        "\n",
        "    # Saving the model\n",
        "    #save_path = f'./model-fold-{fold}.pth'\n",
        "    #torch.save(network.state_dict(), save_path)\n",
        "    model.eval()\n",
        "    l=0\n",
        "    correct=0\n",
        "    total=0\n",
        "    with torch.no_grad():\n",
        "      for X, y in testloader:\n",
        "        X = X.to(device,torch.float32)\n",
        "        y = y.to(device)\n",
        "\n",
        "        # Forward pass\n",
        "        outputs = model(X)\n",
        "        l+=criterion(outputs, y).item()\n",
        "        _, predicted = torch.max(outputs.data, 1)\n",
        "        total += y.size(0)\n",
        "        correct += (predicted == y).sum().item()\n",
        "      accuracy = 100 * correct / total\n",
        "      print('Accuracy for fold %d: %d %%' % (fold, 100.0 * correct / total))\n",
        "      results[fold] = 100.0 * (correct / total)\n",
        "\n",
        "# Print fold results\n",
        "sum = 0.0\n",
        "for key, value in results.items():\n",
        "    print(f'Fold {key}: {value} %')\n",
        "    sum += value\n",
        "print(f'Average: {sum/len(results.items())} %')"
      ],
      "metadata": {
        "colab": {
          "base_uri": "https://localhost:8080/"
        },
        "id": "8U0in-fXbXyJ",
        "outputId": "324db1be-3ae2-4c8e-9b0d-1af537eb10ff"
      },
      "execution_count": 23,
      "outputs": [
        {
          "output_type": "stream",
          "name": "stdout",
          "text": [
            "device =  cuda\n",
            "Starting testing\n",
            "Accuracy for fold 0: 84 %\n",
            "Starting testing\n",
            "Accuracy for fold 1: 85 %\n",
            "Starting testing\n",
            "Accuracy for fold 2: 88 %\n",
            "Starting testing\n",
            "Accuracy for fold 3: 87 %\n",
            "Starting testing\n",
            "Accuracy for fold 4: 88 %\n",
            "Fold 0: 84.6341463414634 %\n",
            "Fold 1: 85.60975609756098 %\n",
            "Fold 2: 88.78048780487805 %\n",
            "Fold 3: 87.3170731707317 %\n",
            "Fold 4: 88.78048780487805 %\n",
            "Average: 87.02439024390245 %\n"
          ]
        }
      ]
    },
    {
      "cell_type": "markdown",
      "source": [
        "the cross validation of simple lstm is about 82 and cross val of fc network is about 87 percent."
      ],
      "metadata": {
        "id": "LihuzuETALes"
      }
    },
    {
      "cell_type": "markdown",
      "source": [
        "# F\n",
        "the main reson of bidirectional lstm better perfomance is that the future of sequence effect on previous states. thus it is more capable to model character dependence in a sequence."
      ],
      "metadata": {
        "id": "19zNlhx__XMf"
      }
    },
    {
      "cell_type": "markdown",
      "source": [
        "# G\n",
        "\n",
        "we implement the part after each part with the title of 10 bin accuracy. observing these results, it seems that by increasing sequence length the accuracy is increasing. this may be as result of less paddings in long sequences.( take care that long sequences are less frequent thus their accuracy are less reliable.)"
      ],
      "metadata": {
        "id": "SdHX_6iqAF9J"
      }
    }
  ]
}